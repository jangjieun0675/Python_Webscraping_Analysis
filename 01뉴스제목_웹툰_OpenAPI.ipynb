{
 "cells": [
  {
   "cell_type": "markdown",
   "id": "eb0bfa44",
   "metadata": {},
   "source": [
    "## 1. 뉴스제목 가져오기\n",
    "* user-agent 요청헤더를 반드시 설정해야 한다."
   ]
  },
  {
   "cell_type": "code",
   "execution_count": 3,
   "id": "f0d27781",
   "metadata": {},
   "outputs": [
    {
     "name": "stdout",
     "output_type": "stream",
     "text": [
      "Name: requests\n",
      "Version: 2.32.2\n",
      "Summary: Python HTTP for Humans.\n",
      "Home-page: https://requests.readthedocs.io\n",
      "Author: Kenneth Reitz\n",
      "Author-email: me@kennethreitz.org\n",
      "License: Apache-2.0\n",
      "Location: C:\\Users\\r2com\\anaconda3\\Lib\\site-packages\n",
      "Requires: certifi, charset-normalizer, idna, urllib3\n",
      "Required-by: anaconda-catalogs, anaconda-client, anaconda-cloud-auth, anaconda-project, conda, conda-build, conda-repo-cli, conda_package_streaming, cookiecutter, datashader, intake, jupyterlab_server, panel, requests-file, requests-toolbelt, Sphinx, streamlit, tldextract\n"
     ]
    }
   ],
   "source": [
    "!pip show requests"
   ]
  },
  {
   "cell_type": "code",
   "execution_count": 4,
   "id": "f7798ea8",
   "metadata": {},
   "outputs": [
    {
     "name": "stdout",
     "output_type": "stream",
     "text": [
      "Name: beautifulsoup4\n",
      "Version: 4.12.3\n",
      "Summary: Screen-scraping library\n",
      "Home-page: \n",
      "Author: \n",
      "Author-email: Leonard Richardson <leonardr@segfault.org>\n",
      "License: MIT License\n",
      "Location: C:\\Users\\r2com\\anaconda3\\Lib\\site-packages\n",
      "Requires: soupsieve\n",
      "Required-by: conda-build, nbconvert\n"
     ]
    }
   ],
   "source": [
    "!pip show beautifulsoup4"
   ]
  },
  {
   "cell_type": "code",
   "execution_count": 5,
   "id": "bf80a429",
   "metadata": {},
   "outputs": [],
   "source": [
    "import requests\n",
    "import bs4\n",
    "from bs4 import BeautifulSoup"
   ]
  },
  {
   "cell_type": "code",
   "execution_count": 6,
   "id": "9788d6ac",
   "metadata": {},
   "outputs": [
    {
     "name": "stdout",
     "output_type": "stream",
     "text": [
      "requests ver 2.32.2\n",
      "beautifulsoup 4.12.3\n"
     ]
    }
   ],
   "source": [
    "print(f'requests ver {requests.__version__}' )\n",
    "print('beautifulsoup {}'.format(bs4.__version__))"
   ]
  },
  {
   "cell_type": "markdown",
   "id": "ccb91def-cde3-4aeb-b0e5-2e7233500333",
   "metadata": {},
   "source": [
    "### 1. 뉴스 제목 추출하기"
   ]
  },
  {
   "cell_type": "code",
   "execution_count": 31,
   "id": "94c12fd6",
   "metadata": {},
   "outputs": [
    {
     "name": "stdout",
     "output_type": "stream",
     "text": [
      "https://news.naver.com/section/105\n",
      "<class 'requests.models.Response'>\n",
      "200\n",
      "<class 'bs4.BeautifulSoup'>\n",
      "제목 = 위메이드 \"블록체인 사업, 하반기에 성과 나올 것\"[컨콜]\n",
      "링크 = https://n.news.naver.com/mnews/article/003/0012714574\n",
      "------------------------------------------------------------------\n",
      "제목 = '어닝쇼크' 카카오게임즈 \"사업정리·대작출시로 타개\"(종합)\n",
      "링크 = https://n.news.naver.com/mnews/article/421/0007715680\n",
      "------------------------------------------------------------------\n",
      "제목 = \"신규 전산망 구축 비용 반영…LGU+, 2분기 영업익 11.8% 감소\n",
      "링크 = https://n.news.naver.com/mnews/article/029/0002893480\n",
      "------------------------------------------------------------------\n",
      "제목 = 국민 10명 중 6명 \"AI 기술 이점이 위험보다 크다\"\n",
      "링크 = https://n.news.naver.com/mnews/article/082/0001282964\n",
      "------------------------------------------------------------------\n",
      "제목 = \"미개봉 에디션 팔아요\"…'시상대 셀카' 삼성폰 벌써 중고로\n",
      "링크 = https://n.news.naver.com/mnews/article/277/0005456253\n",
      "------------------------------------------------------------------\n",
      "제목 = 메가존클라우드, ‘애널리틱스 온 마이크로소프트 애저' 자격 획득\n",
      "링크 = https://n.news.naver.com/mnews/article/014/0005224331\n",
      "------------------------------------------------------------------\n",
      "제목 = 지능형 반도체·양자컴퓨팅 분야 딥테크 기업 키운다\n",
      "링크 = https://n.news.naver.com/mnews/article/366/0001010398\n",
      "------------------------------------------------------------------\n",
      "제목 = LG헬로비전, 2분기 영업익 74억... 전년보다 46.8% 감소\n",
      "링크 = https://n.news.naver.com/mnews/article/366/0001010357\n",
      "------------------------------------------------------------------\n",
      "제목 = '삼성SDI 효과' 필에너지, 상반기 매출 20% 성장 전망\n",
      "링크 = https://n.news.naver.com/mnews/article/030/0003229870\n",
      "------------------------------------------------------------------\n",
      "제목 = '위기 또는 기회' 위믹스 …위메이드 \"하반기 블록체인 성과 낸다\"\n",
      "링크 = https://n.news.naver.com/mnews/article/008/0005074141\n",
      "------------------------------------------------------------------\n",
      "제목 = 김병수 로보티즈 대표, 1.1억원 규모 자사주 매입\n",
      "링크 = https://n.news.naver.com/mnews/article/092/0002341235\n",
      "------------------------------------------------------------------\n",
      "제목 = 응급실에도 공보의·군의관 배치…경증환자 방문 땐 의료비 인상\n",
      "링크 = https://n.news.naver.com/mnews/article/366/0001010415\n",
      "------------------------------------------------------------------\n",
      "제목 = 윤오준 국정원 3차장 \"공공망 분리 제도 개선, '보안 약화' 해석은 곡해\"\n",
      "링크 = https://n.news.naver.com/mnews/article/003/0012715113\n",
      "------------------------------------------------------------------\n",
      "제목 = 차세대발사체 지재권, 한화 '이면계약' 주장에 항우연 \"없었다\"\n",
      "링크 = https://n.news.naver.com/mnews/article/584/0000028207\n",
      "------------------------------------------------------------------\n",
      "제목 = 하반기 전공의 추가 모집 \"이번이 마지막\"…의료계 \"정부 딱해\"\n",
      "링크 = https://n.news.naver.com/mnews/article/421/0007716093\n",
      "------------------------------------------------------------------\n",
      "제목 = \"전동 휠체어 타고 패럴림픽 가요...사람에 꼭 필요한 기술 공급할 것\"\n",
      "링크 = https://n.news.naver.com/mnews/article/092/0002341229\n",
      "------------------------------------------------------------------\n",
      "제목 = 인텔 \"1.8나노급 공정 순항중...시제품 2종 운영체제 부팅 성공\"\n",
      "링크 = https://n.news.naver.com/mnews/article/092/0002341228\n",
      "------------------------------------------------------------------\n",
      "제목 = 영업익 11.8% 감소한 LGU+ \"전사업 AI 전환해 경쟁력 혁신할 것\"(종합)\n",
      "링크 = https://n.news.naver.com/mnews/article/031/0000860004\n",
      "------------------------------------------------------------------\n",
      "제목 = 펄어비스 '검은사막', 아침의 나라 서울과 신규 무기 군왕 공개\n",
      "링크 = https://n.news.naver.com/mnews/article/092/0002341225\n",
      "------------------------------------------------------------------\n",
      "제목 = '방문진 이사 선임' 국회 청문회 세차례 열린다\n",
      "링크 = https://n.news.naver.com/mnews/article/092/0002341224\n",
      "------------------------------------------------------------------\n",
      "제목 = 검은사막에서 만나는 경복궁…펄어비스 '아침의 나라: 서울' 출시\n",
      "링크 = https://n.news.naver.com/mnews/article/031/0000860002\n",
      "------------------------------------------------------------------\n",
      "제목 = 국정원, 판교캠퍼스서 민간과 교류 더 늘린다\n",
      "링크 = https://n.news.naver.com/mnews/article/092/0002341220\n",
      "------------------------------------------------------------------\n",
      "제목 = '뚝심 투자' KT스카이라이프, ENA 채널 시청률 '우영우' 때 넘었다\n",
      "링크 = https://n.news.naver.com/mnews/article/003/0012715013\n",
      "------------------------------------------------------------------\n",
      "제목 = 카카오뱅크 \"카카오 대주주 적격성, 일부 영역 진출만 제한\"\n",
      "링크 = https://n.news.naver.com/mnews/article/092/0002341218\n",
      "------------------------------------------------------------------\n",
      "제목 = 삼성전자, 또 '엔비디아 승인' 뜬소문...HBM 공급 임박했나\n",
      "링크 = https://n.news.naver.com/mnews/article/293/0000057179\n",
      "------------------------------------------------------------------\n",
      "제목 = 세계서 가장 오래된 ‘1만 2000년 전’ 달력 발견…“별자리까지 기록”[핵잼 사이언스]\n",
      "링크 = https://n.news.naver.com/mnews/article/081/0003470613\n",
      "------------------------------------------------------------------\n",
      "제목 = 파리올림픽 선수단에 준 갤플립6, 현지 중고사이트서 거래\n",
      "링크 = https://n.news.naver.com/mnews/article/366/0001010402\n",
      "------------------------------------------------------------------\n",
      "제목 = [G-브리핑] ‘어둠의 실력자가 되고 싶어서!’ 캐릭터 4종 등 추가\n",
      "링크 = https://n.news.naver.com/mnews/article/009/0005346656\n",
      "------------------------------------------------------------------\n",
      "제목 = 9일부터 하반기 전공의 추가 모집…\"이번이 마지막\"(종합)\n",
      "링크 = https://n.news.naver.com/mnews/article/421/0007715923\n",
      "------------------------------------------------------------------\n",
      "제목 = [컨콜] 위메이드, 블록체인 접목한 신작으로 차별화…中 출시 ‘미르M’엔 새 수익모델 도입 (종합)\n",
      "링크 = https://n.news.naver.com/mnews/article/138/0002179427\n",
      "------------------------------------------------------------------\n",
      "제목 = \"신규 전산망 구축 영향\"…LG유플러스, 영업익 11.8% 감소 [종합]\n",
      "링크 = https://n.news.naver.com/mnews/article/015/0005019079\n",
      "------------------------------------------------------------------\n",
      "제목 = 곽노정 SK하이닉스 사장 \"내년 초까지 메모리 수요 견조할 것\"\n",
      "링크 = https://n.news.naver.com/mnews/article/001/0014860440\n",
      "------------------------------------------------------------------\n",
      "제목 = 국민 10명 중 6명 “AI 기술 이점이 위협보다 커”\n",
      "링크 = https://n.news.naver.com/mnews/article/366/0001010400\n",
      "------------------------------------------------------------------\n",
      "제목 = 메티스엑스, 美 FMS서 '혁신 메모리 스타트업' 대상\n",
      "링크 = https://n.news.naver.com/mnews/article/030/0003229834\n",
      "------------------------------------------------------------------\n",
      "제목 = ‘신작 부진’ 카카오게임즈, 2분기 어닝쇼크… 조혁민 CFO “사업 정리 검토”\n",
      "링크 = https://n.news.naver.com/mnews/article/005/0001716275\n",
      "------------------------------------------------------------------\n",
      "제목 = 국민 절반 이상 \"AI 기술 이점이 더 크고 혁신이 규제보다 중요\"\n",
      "링크 = https://n.news.naver.com/mnews/article/584/0000028204\n",
      "------------------------------------------------------------------\n",
      "제목 = 국민 10명 중 6명 \"AI 이점이 위협보다 커…규제보다 혁신 중요\"\n",
      "링크 = https://n.news.naver.com/mnews/article/003/0012714925\n",
      "------------------------------------------------------------------\n",
      "제목 = 광주·대전에 '딥테크 스케일업 밸리' 들어선다…27년까지 300억 투자\n",
      "링크 = https://n.news.naver.com/mnews/article/008/0005074103\n",
      "------------------------------------------------------------------\n",
      "제목 = HBM3E 8단, 엔비디아 통과?...삼성電 \"아직 테스트 중\"\n",
      "링크 = https://n.news.naver.com/mnews/article/092/0002341214\n",
      "------------------------------------------------------------------\n",
      "제목 = \"에버랜드 지금 사람 많아요?\"…카카오T로 '실시간 대화'\n",
      "링크 = https://n.news.naver.com/mnews/article/015/0005019077\n",
      "------------------------------------------------------------------\n",
      "제목 = 약 없이 전기자극으로 다이어트 가능해진다 [연구+]\n",
      "링크 = https://n.news.naver.com/mnews/article/022/0003957890\n",
      "------------------------------------------------------------------\n",
      "제목 = 위메이드, 이어지는 적자에…간판 IP ‘미르’ 올인\n",
      "링크 = https://n.news.naver.com/mnews/article/119/0002859697\n",
      "------------------------------------------------------------------\n",
      "제목 = 4기 암환자에 `대변 이식` 했더니...면역항암제 효과 높아졌다\n",
      "링크 = https://n.news.naver.com/mnews/article/029/0002893483\n",
      "------------------------------------------------------------------\n",
      "제목 = [컨콜] 위메이드, “中 출시 ‘미르M’에 블록체인 접목한 새 수익모델 도입”\n",
      "링크 = https://n.news.naver.com/mnews/article/138/0002179426\n",
      "------------------------------------------------------------------\n"
     ]
    }
   ],
   "source": [
    "# IT/과학 뉴스\n",
    "req_param = {\n",
    " 'sid':105   \n",
    "}\n",
    "url = 'https://news.naver.com/section/{sid}'.format(**req_param)\n",
    "print(url)\n",
    "# 요청 헤더 설정 : 브라우저 정보\n",
    "req_header = {\n",
    "    'user-agent': 'Mozilla/5.0 (Windows NT 10.0; Win64; x64) AppleWebKit/537.36 (KHTML, like Gecko) Chrome/104.0.0.0 Safari/537.36'\n",
    "}\n",
    "# requests 모듈을 이용하여 http통신\n",
    "res = requests.get(url, headers=req_header)\n",
    "print(type(res))\n",
    "print(res.status_code)\n",
    "if res.ok: #True\n",
    "    # 소스보기 텍스트 가져오기\n",
    "    html=res.text\n",
    "    # parsing을 하기 위해서 BeautifulSoup 객체생성\n",
    "    soup = BeautifulSoup(html, \"html.parser\")\n",
    "    print(type(soup))\n",
    "    '''\n",
    "        <div class='sa_text'>\n",
    "            <a href='https://n.news.naver.com/mnews/article/092/0002340904' class='sa_text_title'>\n",
    "               <strong class=\"sa_text_strong\">엔씨소프트, 2분기 영업익 88억...실적 개선 박차</strong>\n",
    "    '''\n",
    "    #print(len(soup.select(\"div.sa_text a[href*='https://n.news.naver.com/mnews/article']\")))\n",
    "    #print(len(soup.select(\"div.sa_text a.sa_text_title\")))\n",
    "    atag_list = soup.select(\"div.sa_text a.sa_text_title\")\n",
    "    #print(type(atag_list))\n",
    "    for atag in atag_list:\n",
    "        # text속성: tag사이의 content, strip()공백제거\n",
    "        title = atag.text.strip()\n",
    "        # href 속성의 값을 추출하기\n",
    "        url = atag['href']\n",
    "        print(f'제목 = {title}')\n",
    "        print(f'링크 = {url}')\n",
    "        print('------------------------------------------------------------------')\n",
    "else:\n",
    "    print(f'Error발생 {res.status_code}')"
   ]
  },
  {
   "cell_type": "code",
   "execution_count": 6,
   "id": "4461b9cc",
   "metadata": {},
   "outputs": [],
   "source": [
    "section_dict = {100:'정치',101:'경제',102:'사회',103:'생활/문화',104:'세계',105:'IT/과학'}"
   ]
  },
  {
   "cell_type": "markdown",
   "id": "45640860-a449-4285-90d7-5f300292b461",
   "metadata": {},
   "source": [
    "### 1.1 뉴스제목 추출하는 함수 선언하기"
   ]
  },
  {
   "cell_type": "code",
   "execution_count": 13,
   "id": "9f2e4ef8",
   "metadata": {},
   "outputs": [],
   "source": [
    "import requests\n",
    "from bs4 import BeautifulSoup\n",
    "\n",
    "def print_news(sid, section):    \n",
    "    # 요청 Parameter\n",
    "    req_param = {\n",
    "    'sid': sid\n",
    "    }\n",
    "    url = 'https://news.naver.com/section/{sid}'.format(**req_param)\n",
    "    \n",
    "    print(f'======> {url} {section} 뉴스 <======')\n",
    "    \n",
    "    # 요청 헤더 설정 : 브라우저 정보\n",
    "    req_header = {\n",
    "        'user-agent': 'Mozilla/5.0 (Windows NT 10.0; Win64; x64) AppleWebKit/537.36 (KHTML, like Gecko) Chrome/104.0.0.0 Safari/537.36'\n",
    "    }\n",
    "    "
   ]
  },
  {
   "cell_type": "code",
   "execution_count": 14,
   "id": "858952c6",
   "metadata": {},
   "outputs": [
    {
     "name": "stdout",
     "output_type": "stream",
     "text": [
      "======> https://news.naver.com/section/103 생활/문화 뉴스 <======\n"
     ]
    }
   ],
   "source": [
    "print_news(103,section_dict[103])"
   ]
  },
  {
   "cell_type": "markdown",
   "id": "323196dc",
   "metadata": {},
   "source": [
    "### 2. Image 다운로드\n",
    "* referer 요청 헤더를 반드시 설정해야 한다."
   ]
  },
  {
   "cell_type": "code",
   "execution_count": 15,
   "id": "c72d6cb1",
   "metadata": {},
   "outputs": [],
   "source": [
    "import requests\n",
    "import os\n",
    "\n",
    "req_header = {\n",
    "    'referer':'https://comic.naver.com/webtoon/detail?titleId=798173&no=5&amp;weekday=thu'\n",
    "}\n",
    "img_urls = [\n",
    "    'https://image-comic.pstatic.net/webtoon/798173/5/20220804112251_d97bd1e1b38f0cd022e4e3639d2926b3_IMAG01_1.jpg',\n",
    "    'https://image-comic.pstatic.net/webtoon/798173/5/20220804112251_d97bd1e1b38f0cd022e4e3639d2926b3_IMAG01_2.jpg',\n",
    "    'https://image-comic.pstatic.net/webtoon/798173/5/20220804112251_d97bd1e1b38f0cd022e4e3639d2926b3_IMAG01_3.jpg'\n",
    "]\n",
    "\n"
   ]
  },
  {
   "cell_type": "markdown",
   "id": "e8b00a04",
   "metadata": {},
   "source": [
    "* 현재 요청된 페이지의 image 모두 다운로드 해보기"
   ]
  },
  {
   "cell_type": "code",
   "execution_count": 16,
   "id": "b30f7bf5",
   "metadata": {},
   "outputs": [],
   "source": [
    "import requests\n",
    "import os\n",
    "\n",
    "url = 'https://comic.naver.com/webtoon/detail?titleId=817945&no=37&week=mon'\n",
    "req_header = {\n",
    "    'referer': url\n",
    "}\n",
    "res = requests.get(url)\n",
    "if res.ok: #200\n",
    "    pass\n",
    "else:\n",
    "    print(res.status_code)"
   ]
  },
  {
   "cell_type": "markdown",
   "id": "2ac9f5f9",
   "metadata": {},
   "source": [
    "### 3. 파일 업로드 하기\n",
    "* http://httpbin.org/post 업로드 요청을 할 수 있는 url"
   ]
  },
  {
   "cell_type": "code",
   "execution_count": 17,
   "id": "04da4790",
   "metadata": {},
   "outputs": [],
   "source": []
  },
  {
   "cell_type": "markdown",
   "id": "7ad65f12",
   "metadata": {},
   "source": [
    "### 4. 단축 URL 생성하는 Open API 사용하기\n",
    "* urllib 사용"
   ]
  },
  {
   "cell_type": "code",
   "execution_count": null,
   "id": "abbb0ebf",
   "metadata": {},
   "outputs": [],
   "source": [
    "import os\n",
    "import sys\n",
    "import urllib.request\n",
    "\n",
    "client_id = \"V\" # 개발자센터에서 발급받은 Client ID 값\n",
    "client_secret = \"y_\" # 개발자센터에서 발급받은 Client Secret 값\n",
    "encText = urllib.parse.quote(\"https://drive.google.com/drive/u/0/folders/1V_DK7Px5w_niEKLlWhDr_GPgIYHG3Du-\")\n",
    "data = \"url=\" + encText\n",
    "url = \"https://openapi.naver.com/v1/util/shorturl\"\n",
    "\n",
    "request = urllib.request.Request(url)\n",
    "request.add_header(\"X-Naver-Client-Id\",client_id)\n",
    "request.add_header(\"X-Naver-Client-Secret\",client_secret)\n",
    "\n",
    "response = urllib.request.urlopen(request, data=data.encode(\"utf-8\"))\n",
    "rescode = response.getcode()\n",
    "if(rescode==200):\n",
    "    response_body = response.read()\n",
    "    print(response_body.decode('utf-8'))\n",
    "else:\n",
    "    print(\"Error Code:\" + rescode)\n"
   ]
  },
  {
   "cell_type": "markdown",
   "id": "b7d984a6",
   "metadata": {},
   "source": [
    "* requests를 사용하는 코드로 변경하기\n",
    "* [requests docs](https://requests.readthedocs.io/en/latest/user/quickstart/)"
   ]
  },
  {
   "cell_type": "code",
   "execution_count": null,
   "id": "727b427b",
   "metadata": {
    "scrolled": true
   },
   "outputs": [],
   "source": [
    "import requests\n",
    "\n",
    "client_id = \"V\" # 개발자센터에서 발급받은 Client ID 값\n",
    "client_secret = \"y_\" # 개발자센터에서 발급받은 Client Secret 값\n",
    "\n",
    "origin_url = \"https://drive.google.com/drive/u/0/folders/1V_DK7Px5w_niEKLlWhDr_GPgIYHG3Du-\"\n",
    "\n"
   ]
  },
  {
   "cell_type": "markdown",
   "id": "d5e1179a",
   "metadata": {},
   "source": [
    "### 5. 블로그 검색하기"
   ]
  },
  {
   "cell_type": "code",
   "execution_count": null,
   "id": "877d0c7f",
   "metadata": {},
   "outputs": [],
   "source": [
    "import requests\n",
    "import pprint\n",
    "\n",
    "headers = {\n",
    "    'X-Naver-Client-Id': 'V',\n",
    "    'X-Naver-Client-Secret': 'y_',\n",
    "}\n",
    "\n",
    "payload = {\n",
    "    'query': '파이썬',\n",
    "    'display': 100,\n",
    "    'sort': 'sim'\n",
    "}\n",
    "\n",
    "url = 'https://openapi.naver.com/v1/search/blog.json'\n",
    "\n",
    "res = requests.get(url, params=payload, headers=headers)\n",
    "items_data = res.json()['items']\n",
    "#print(items_data)\n",
    "\n",
    "items_list = list()\n",
    "item_list = []\n",
    "for item in items_data:\n",
    "#     print(item)\n",
    "    item_list.append(item['title'])\n",
    "    item_list.append(item['bloggername'])\n",
    "    item_list.append(item['description'])\n",
    "    item_list.append(item['bloggerlink'])\n",
    "    item_list.append(item['link'])\n",
    "\n",
    "    items_list.append(item_list)\n",
    "    item_list = []\n",
    "\n",
    "print(items_list)\n",
    "\n",
    "with open('data/nhnblog.txt','w',encoding=\"utf-8\")as file:\n",
    "    for items in items_list:\n",
    "        for item in items:\n",
    "            item = item + '\\n'\n",
    "            file.write(item)\n",
    "        file.write('-'*150+'\\n')"
   ]
  }
 ],
 "metadata": {
  "kernelspec": {
   "display_name": "Python 3 (ipykernel)",
   "language": "python",
   "name": "python3"
  },
  "language_info": {
   "codemirror_mode": {
    "name": "ipython",
    "version": 3
   },
   "file_extension": ".py",
   "mimetype": "text/x-python",
   "name": "python",
   "nbconvert_exporter": "python",
   "pygments_lexer": "ipython3",
   "version": "3.12.4"
  }
 },
 "nbformat": 4,
 "nbformat_minor": 5
}
